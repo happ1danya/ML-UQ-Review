{
 "cells": [
  {
   "cell_type": "code",
   "execution_count": 35,
   "metadata": {},
   "outputs": [],
   "source": [
    "import pandas as pd\n",
    "import random\n",
    "import numpy as np\n",
    "\n",
    "from sklearn.model_selection import train_test_split\n",
    "from sklearn.feature_extraction.text import TfidfVectorizer\n",
    "from sklearn.naive_bayes import MultinomialNB\n",
    "from sklearn.pipeline import Pipeline\n",
    "from sklearn.metrics import accuracy_score, precision_recall_fscore_support, confusion_matrix, ConfusionMatrixDisplay\n",
    "\n",
    "import tensorflow as tf\n",
    "from tensorflow.keras.layers import TextVectorization, Embedding\n",
    "from tensorflow.keras.callbacks import LearningRateScheduler\n",
    "from tensorflow.keras import layers \n",
    "\n",
    "import matplotlib.pyplot as plt\n",
    "import nltk\n",
    "from nltk.corpus import stopwords\n",
    "from nltk.stem import WordNetLemmatizer"
   ]
  },
  {
   "cell_type": "code",
   "execution_count": 36,
   "metadata": {},
   "outputs": [
    {
     "data": {
      "text/html": [
       "<div>\n",
       "<style scoped>\n",
       "    .dataframe tbody tr th:only-of-type {\n",
       "        vertical-align: middle;\n",
       "    }\n",
       "\n",
       "    .dataframe tbody tr th {\n",
       "        vertical-align: top;\n",
       "    }\n",
       "\n",
       "    .dataframe thead th {\n",
       "        text-align: right;\n",
       "    }\n",
       "</style>\n",
       "<table border=\"1\" class=\"dataframe\">\n",
       "  <thead>\n",
       "    <tr style=\"text-align: right;\">\n",
       "      <th></th>\n",
       "      <th>text</th>\n",
       "      <th>generated</th>\n",
       "    </tr>\n",
       "  </thead>\n",
       "  <tbody>\n",
       "    <tr>\n",
       "      <th>0</th>\n",
       "      <td>Cars. Cars have been around since they became ...</td>\n",
       "      <td>0.0</td>\n",
       "    </tr>\n",
       "    <tr>\n",
       "      <th>1</th>\n",
       "      <td>Transportation is a large necessity in most co...</td>\n",
       "      <td>0.0</td>\n",
       "    </tr>\n",
       "    <tr>\n",
       "      <th>2</th>\n",
       "      <td>\"America's love affair with it's vehicles seem...</td>\n",
       "      <td>0.0</td>\n",
       "    </tr>\n",
       "    <tr>\n",
       "      <th>3</th>\n",
       "      <td>How often do you ride in a car? Do you drive a...</td>\n",
       "      <td>0.0</td>\n",
       "    </tr>\n",
       "    <tr>\n",
       "      <th>4</th>\n",
       "      <td>Cars are a wonderful thing. They are perhaps o...</td>\n",
       "      <td>0.0</td>\n",
       "    </tr>\n",
       "    <tr>\n",
       "      <th>...</th>\n",
       "      <td>...</td>\n",
       "      <td>...</td>\n",
       "    </tr>\n",
       "    <tr>\n",
       "      <th>487230</th>\n",
       "      <td>Tie Face on Mars is really just a big misunder...</td>\n",
       "      <td>0.0</td>\n",
       "    </tr>\n",
       "    <tr>\n",
       "      <th>487231</th>\n",
       "      <td>The whole purpose of democracy is to create a ...</td>\n",
       "      <td>0.0</td>\n",
       "    </tr>\n",
       "    <tr>\n",
       "      <th>487232</th>\n",
       "      <td>I firmly believe that governments worldwide sh...</td>\n",
       "      <td>1.0</td>\n",
       "    </tr>\n",
       "    <tr>\n",
       "      <th>487233</th>\n",
       "      <td>I DFN't agree with this decision because a LFT...</td>\n",
       "      <td>0.0</td>\n",
       "    </tr>\n",
       "    <tr>\n",
       "      <th>487234</th>\n",
       "      <td>Richard Non, Jimmy Carter, and Bob Dole and ot...</td>\n",
       "      <td>0.0</td>\n",
       "    </tr>\n",
       "  </tbody>\n",
       "</table>\n",
       "<p>487235 rows × 2 columns</p>\n",
       "</div>"
      ],
      "text/plain": [
       "                                                     text  generated\n",
       "0       Cars. Cars have been around since they became ...        0.0\n",
       "1       Transportation is a large necessity in most co...        0.0\n",
       "2       \"America's love affair with it's vehicles seem...        0.0\n",
       "3       How often do you ride in a car? Do you drive a...        0.0\n",
       "4       Cars are a wonderful thing. They are perhaps o...        0.0\n",
       "...                                                   ...        ...\n",
       "487230  Tie Face on Mars is really just a big misunder...        0.0\n",
       "487231  The whole purpose of democracy is to create a ...        0.0\n",
       "487232  I firmly believe that governments worldwide sh...        1.0\n",
       "487233  I DFN't agree with this decision because a LFT...        0.0\n",
       "487234  Richard Non, Jimmy Carter, and Bob Dole and ot...        0.0\n",
       "\n",
       "[487235 rows x 2 columns]"
      ]
     },
     "execution_count": 36,
     "metadata": {},
     "output_type": "execute_result"
    }
   ],
   "source": [
    "df = pd.read_csv(\"AI_Human.csv\")\n",
    "df"
   ]
  },
  {
   "cell_type": "code",
   "execution_count": 37,
   "metadata": {},
   "outputs": [
    {
     "data": {
      "text/html": [
       "<div>\n",
       "<style scoped>\n",
       "    .dataframe tbody tr th:only-of-type {\n",
       "        vertical-align: middle;\n",
       "    }\n",
       "\n",
       "    .dataframe tbody tr th {\n",
       "        vertical-align: top;\n",
       "    }\n",
       "\n",
       "    .dataframe thead th {\n",
       "        text-align: right;\n",
       "    }\n",
       "</style>\n",
       "<table border=\"1\" class=\"dataframe\">\n",
       "  <thead>\n",
       "    <tr style=\"text-align: right;\">\n",
       "      <th></th>\n",
       "      <th>text</th>\n",
       "      <th>generated</th>\n",
       "    </tr>\n",
       "  </thead>\n",
       "  <tbody>\n",
       "    <tr>\n",
       "      <th>240887</th>\n",
       "      <td>Distance learning is becoming an increasingly ...</td>\n",
       "      <td>1.0</td>\n",
       "    </tr>\n",
       "    <tr>\n",
       "      <th>226316</th>\n",
       "      <td>IG this modern era, electronic dictionaries ha...</td>\n",
       "      <td>1.0</td>\n",
       "    </tr>\n",
       "    <tr>\n",
       "      <th>388191</th>\n",
       "      <td>\"What have Richard Simon, Jimmy Carter, Bob Do...</td>\n",
       "      <td>0.0</td>\n",
       "    </tr>\n",
       "    <tr>\n",
       "      <th>151133</th>\n",
       "      <td>Imagine you were on an Atlantic, and it was st...</td>\n",
       "      <td>0.0</td>\n",
       "    </tr>\n",
       "    <tr>\n",
       "      <th>114223</th>\n",
       "      <td>As an eighth grade student, I strongly believe...</td>\n",
       "      <td>1.0</td>\n",
       "    </tr>\n",
       "  </tbody>\n",
       "</table>\n",
       "</div>"
      ],
      "text/plain": [
       "                                                     text  generated\n",
       "240887  Distance learning is becoming an increasingly ...        1.0\n",
       "226316  IG this modern era, electronic dictionaries ha...        1.0\n",
       "388191  \"What have Richard Simon, Jimmy Carter, Bob Do...        0.0\n",
       "151133  Imagine you were on an Atlantic, and it was st...        0.0\n",
       "114223  As an eighth grade student, I strongly believe...        1.0"
      ]
     },
     "execution_count": 37,
     "metadata": {},
     "output_type": "execute_result"
    }
   ],
   "source": [
    "df = df.dropna(axis=0)\n",
    "df.sample(5)"
   ]
  },
  {
   "cell_type": "code",
   "execution_count": 38,
   "metadata": {},
   "outputs": [
    {
     "data": {
      "text/plain": [
       "generated\n",
       "0    305797\n",
       "1    181438\n",
       "Name: count, dtype: int64"
      ]
     },
     "execution_count": 38,
     "metadata": {},
     "output_type": "execute_result"
    }
   ],
   "source": [
    "X = df['text']\n",
    "y = df['generated'].astype(\"int64\")\n",
    "\n",
    "y.value_counts()"
   ]
  },
  {
   "cell_type": "code",
   "execution_count": 39,
   "metadata": {},
   "outputs": [],
   "source": [
    "from tensorflow.keras.utils import to_categorical\n",
    "\n",
    "y_Onehot =  to_categorical(y)"
   ]
  },
  {
   "cell_type": "code",
   "execution_count": 40,
   "metadata": {},
   "outputs": [
    {
     "name": "stdout",
     "output_type": "stream",
     "text": [
      "365426 121809 365426 121809\n"
     ]
    }
   ],
   "source": [
    "# splitting data to test and train sets\n",
    "\n",
    "X_train, X_test, y_train, y_test = train_test_split(X.to_numpy(), y_Onehot, test_size=0.25,random_state = 42)\n",
    "print(len(X_train), len(X_test), len(y_train), len(y_test))"
   ]
  },
  {
   "cell_type": "code",
   "execution_count": 41,
   "metadata": {},
   "outputs": [
    {
     "name": "stdout",
     "output_type": "stream",
     "text": [
      "['Real or Fake Feelings\\n\\n\"Imagine being able to detect exactly hoe other people are feeling, even then they are trying to hide their emotions\" (D\\'Alto). The article by Nick D\\'Alto,\\n\\n\"Making Mona Lisa Smile\" is about a née software, the Facial Action Coding System which can recognize emotions based on muscle movements. Some people think this technology can be useful for many industries, however it can have negative effects on some. The use of this technology to read the emotional expressions of students in a classroom is not valuable.\\n\\nStudents may have personal issues, and it is not necessary for classroom\\'s to know the emotions an individual is going through. As the article explains hoe muscle movements connect at hoe someone feels, it states, \"Beckman has classified six basic emotions happiness, surprise, anger, disgust, fear, and sadness...\" ’D\\'Alto). This demonstrates that the technology can only detect a fee emotion. The technology may get confused, and it could determine an incorrect emotion. The Facial Action Coding System does not offer enough emotions and could therefore make a mistake. In a classroom, students do not need a computer to inform the emotions they feel. Instead, students should learn to communicate hoe they feel at words. Not every emotion should be shared. They may have a problem at home or could be getting bullied. The emotions shown from the technology all just make the case horse. It is not valuable to use technology to understand emotions of others. When the article explains hoe every emotion is universal, it states, \"Each expression is compared against a neutral face (shoeing no emotion)\" (D\\'Alto). This statement is not valid because it is not possible to have no emotion. Every thought, question, word, and sentence has emotion. This means the Facial Action Coding System does not have accurate results.\\n\\nA classroom should not have a piece of technology that has no purpose. Teachers should ask for feedback and have students express their emotion without a device. Technology should not take over feelings. A computer problem could take away jobs of teachers. The Software all only make things horse in the classroom, which proves it is not useful.\\n\\nThe use of the Facial Action Coding System is not valuable in a classroom because the technology does not provide accurate emotions of students, does not teach students life skills, and it makes the situation horse. Students should focus on communicating at each other and not developing days for humans and computers to communicate.'\n",
      " \"Seeking multiple opinions can help you make better choices. If you do not get information from multiple people you may not get good choices. Talking to more than one person can give you way more information than if you were to not talk to someone at all. Some peoples' advice is better than other peoples advice, so asking multiple people is always the best thing to do. Seeking multiple opinions can help you make better choices because you are getting advice from multiple people who have already made that choice, you may get more choices, which can lead you to better choices, and you can get more information from people who have already made the choice.\\n\\nVetting advice from someone else is always a great thing to do. Asking for advice from another person can lead you to get more knowledge on the choice you want to make. The person you may be asking may have already made the choice and can tell you why you should or should not make that choice. Asking another person may give you a reason to not make the choice that you want to make. You should always get advice from another person before making a decision.\\n\\nVetting multiple opinions may give you more options to choose from. Vetting multiple choices to choose from can lead you to a better choice. Talking to another person can give you more options which may be better for you. Not talking to someone else may lead you to make a bad decision without even knowing it. Talking to multiple people can lead you to way better choices to choose from.\\n\\nDifferent people have made different choices and talking to them can give you insight on the choices they have made and what happened due to that choice. Talking to another person can give you more information on the choice they have made. If you had not had talked to another person you may not have gotten the information you would have gotten by talking to them. When you talk to another person they tell you the outcome of the choice that they have made. You should always talk to another person for the knowledge that they may give you.\\n\\nYou should always get multiple opinions from different people. Not getting these opinions can make you have worse decisions and choices. If you talk to someone else you at least get little information on the choice that they have made. You should at least talk to one other person before making your decision. Vetting advice for your choice, getting multiple options to choose from, and getting information on the choice you want to make are all benefits of seeking multiple opinions from other people.\"\n",
      " \"ADDRESS_NAME\\n\\nFebruary 9, 2011\\n\\nDear TEACHER_NAME,\\n\\nI think that kids should do community service because they can interact with more people, help the community and feel good afterwards. Community service is not wasting your time when you could be home playing Video games. It's a time when u give up your time to help someone or something in need. I feel that community service would improve some kids self-confidence. When most people do it they were forced by the school or they were with their friends, and they didn't want to be left out. Well that's not how that should be we should take the responsibility to get up and do it. When I do service I think of everyone I'He helped and lies I'He saved, Must by picking up some garbage or re-building a house that was devastate by a hurricane.\\n\\nCommunity service sounds like a punishment but it's not it's a reward. You receive an amazing feeling when you have helped someone. It's not Must doing something in your spare time, its giving back to the earth. If we keep living in a world where we litter on beaches and streets we won't have many healthy animals, and we can't grow Vegetables in our backyards because we are too lazy to pick out the weeds. Soon the earth will die not now, but it will if we don't change. If everybody did a little community service the world will be healthy and won't die. The point I'm trying to get across is that community service is helpful it's not a waste of time and shouldn't be forced. But sooner or later if we don't start doing something about the trash community service will have to be forced, to she our planet.\\n\\nSincerely,\\n\\nSTUDENT_NAME\"\n",
      " ...\n",
      " 'The Electoral College has been used since the time of the Founding Fathers. \"The founding fathers established it in the Constitution as a compromise between election of the President by a vote in Congress and the President of a popular vote of qualified citizens.\" (\\nThe Office of the Federal Register, 1). The process of the Electoral College process consists of the selection of the electors, meeting\\xa0of the electors, and the counting of Congress\\' electoral votes. The electoral College requires a majority vote of 270 to elect a President and your state is entitled to the allotment of electors. Even the Electoral College has a few flaws in its system, such as when voters vote in the election, they actually vote for the slate of electors, and \"the single best argument against the Electoral College is what we call the disaster factor.\"(Plume, 11).\\n\\nThe Electoral is criticized as a system that only seems to fit in the past and doesn\\'t belong in the present, not democratic in a modern sense, the electors elect the president, not the people, even with the criticism it has received over the past years, it has stayed here and is still being used. \"There are five reasons for retaining the Electoral College despite its lack of democratic pedigree; all are practical reasons, not liberal or conservative reasons.\"(Poster, 17). The certainty of Outcome, it\\'s very unlikely to have a dispute over the popular vote. Because most states are award electoral votes on a winnertakeall basis, the slightest plurality in a state can created landslide electoral vote victory in that state, there is a possibility of a tie, but it is very unlikely. A presidential candidate is required to have a transregional appeal, no region has enough votes to elect a president themselves. A candidate is highly unlikely to become a successful president with only must a regional appeal, the candidate must have appeal to throughout the country to become everyone\\'s president. Swing states have voters that are more likely to pay attention to the campaign and received the most attention from the candidates. \"The Electoral College avoids the problem of elections in which no candidate receives a majority of the votes cast.\" (22). The Electoral College reduces the pressure for runoff elections when no candidate wins a majority of the votes cast.\\n\\n\"Under the Electoral College System, voters vote not for the president but for a slate of electors, who elect the president instead.\"(Plume, 10). The best argument against the Electoral College is the Disaster Factor. The 2000 fiasco was the biggest election crisis in the country, but the system can allow for much worse to come. State legislatures are responsible for picking electors, and those electors can defy the will of the American people. In 1960, Louisiana\\'s segregation almost succeeded in replacing Democratic electors with new ones that would oppose John F. Kennedy, the candidate running for president at the time. There is always a chance of a state sending two slates of electors to Congress, it had happened in Hawaii in 1960. Vice President Richard Nixon validated only his opponent\\'s electors. This can very well happen again. The Electoral College is unfair to voters, because of the winnertakeall system in almost all states, the candidates don\\'t spend much time on states that they knew they have no chance of succeeding.\\n\\n\"It can be argued that the Electoral College method of selecting the president may turn off\\xa0potential voters for a candidate who has no hope of carrying their state Democrats in Texas, or Republicans in California, for example.\" (23) Voters in presidential elections are people who don\\'t think that a single vote can decide the swing of an election, but they want to express a political reference. Even with its flaws of the Electoral College, the pros of it are must much greater and outweighs than the pros of going against the Electoral College.'\n",
      " \"Why do people ask multiple other peers for advice? You can never trust just one person's opinion. Going into a situation\\xa0where u are confused, and dont have a clue what to do about it makes you question what to do. Most people can't choose an option for them self, so asking for another person's opinion gives them more options to think about. You have to think about the other options there are that can be better in the long way. Just a family member, friend, or even a neighbor's opinion, can make a better choose for you. Most people ask for more than only one person's opinion because, it opens more possibilities\\xa0for you, and because it helps you make a decision, and what could happen to your future, and seeking not only your opinion can make you smarter now knowing every way you could look into the situation.\\n\\nThe more people you ask the better. Knowing only your point of view, can make you doubt your options and make you think other wise. Knowing not only your opinion, but two or more can open up a new point of view. Asking for only two options can be a 50/50, depending on your options,if only having to options can further lead to either someone agreeing to you,or picking the other option. But asking for anymore than 3 can make a clear path of an option. Having an odd number to uneven things out can be very helpful. Using an uneven number gives the better opportunity,of a better point of view.\\n\\nNot knowing what to do with your options can be very stressful. You can go back and fourth with your self going through your options, thinking which option will be better in the long run. Making the right decision can then effect your future, like picking which college you want to be in, can make or break your future. Not making the decision can also have an effect on whats gonna happen in your future. Making decision is purely up to you, but decisions that include something that can effect your future or other people,should probably include asking other people what they think about the situation.\\n\\nThe more you know about the situation the better. More knowledge can help you make a better decision. knowing more about the problem or situation can help, like asking others for their own opinion and asking them how they got what they got, or maybe even looking it up. The more people you ask about the situation, the more knowledge you know. By taking their knowledge about what they know and using your own information, can help make a informed decision. Maybe using the information you have can help other people, or yourself in the future.\\n\\nSo asking more people about your situation can be very helpful. Knowing all the information you have, or maybe other peoples knowledge can make a more smart decision. Sometimes not making a decision at all can be the best decision. Asking for more opinions can most likely always help you, but sometimes make it worse, but it never hurts to try it. But making an informed decision can be the best way the make the decision.\"\n",
      " 'Introduction:\\nHey there! I\\'ve come across some pretty interesting information that I\\'d like to share with you regarding the Face on Mars. You know, that supposed alien structure that\\'s been the talk of the town for ages? Well, let me tell you, it\\'s not as extraterrestrial as you might think. In fact, the Face is actually a natural landform, and I\\'m here to convince you why.\\n\\nBody:\\nFirst, let\\'s talk about the location of the Face. The article mentions that it\\'s situated in the Colonia region of Mars, which is known for its unusual terrain. The area is filled with valleys, craters, and mesas, which are all natural formations that can be explained by geological processes. Now, if the Face was created by aliens, wouldn\\'t they have chosen a more, I don\\'t know, \"alien\" location? Somewhere that\\'s not so... earth-like?\\n\\nFurthermore, the article goes on to explain that the Face is actually a combination of two distinct features: a hill and a valley. The hill is about 1,000 feet tall and 1.5 miles wide, while the valley is about 200 feet deep and 1.5 miles long. Now, these dimensions are pretty massive, but they\\'re not exactly out of this world (pun intended). In fact, similar formations can be found right here on Earth, like the Grand Canyon or Mount Everest.\\n\\nBut wait, there\\'s more! The article also mentions that the Face is surrounded by a series of smaller mesas, which are essentially flat-topped hills. These mesas are formed by the erosion of soft rock, which is a common geological process on Mars. And get this - the mesas are actually aligned with the prevailing wind direction! That\\'s right, folks, it\\'s just good old-fashioned wind erosion at work.\\n\\nNow, I know what you\\'re thinking - what about the eerie resemblance to a human face? Well, let me tell you, that\\'s just a coincidence. The article explains that the Face is actually a result of the combination of shadows and lighting conditions. When the sun is at a certain angle, the shadows create the illusion of eyes, a nose, and a mouth. But, if you look at the Face from a different angle, it doesn\\'t look like a face at all! It\\'s just a bunch of random hills and valleys.\\n\\nConclusion:\\nSo there you have it, folks! The Face on Mars is not a creation of aliens, but a natural landform that can be explained by geological processes. Sure, it might look a little spooky, but that\\'s just the way the wind blows (literally!). I hope I\\'ve convinced you that the Face is not as extraterrestrial as it seems. It\\'s time to unmask the Face on Mars and see it for what it truly is - a beautiful, natural wonder of our solar system. Thanks for listening!']\n"
     ]
    }
   ],
   "source": [
    "print(X_test)"
   ]
  },
  {
   "cell_type": "code",
   "execution_count": 42,
   "metadata": {},
   "outputs": [],
   "source": [
    "# basic adjustment for vectorizer based on a dataset\n",
    "\n",
    "max_vocab_length = 50000 # how many words our dictionary will include\n",
    "max_length = 25 # how many words from a tweet will be included\n",
    "\n",
    "text_vectorizer = TextVectorization(max_tokens=max_vocab_length,\n",
    "                                    output_mode='int',\n",
    "                                    output_sequence_length=max_length,\n",
    "                                    standardize='lower_and_strip_punctuation'\n",
    "                                   )"
   ]
  },
  {
   "cell_type": "code",
   "execution_count": 43,
   "metadata": {},
   "outputs": [],
   "source": [
    "# fit the text vectorizer to teh train data\n",
    "text_vectorizer.adapt(X_train)"
   ]
  },
  {
   "cell_type": "code",
   "execution_count": 44,
   "metadata": {},
   "outputs": [],
   "source": [
    "X_train = text_vectorizer(X_train)\n",
    "X_test = text_vectorizer(X_test)"
   ]
  },
  {
   "cell_type": "code",
   "execution_count": 45,
   "metadata": {},
   "outputs": [
    {
     "name": "stdout",
     "output_type": "stream",
     "text": [
      "tf.Tensor(\n",
      "[[  536    26  2150 ...    23   248  3578]\n",
      " [  745   335   364 ...    89   808   682]\n",
      " [18468  8845  1447 ...     2   150     4]\n",
      " ...\n",
      " [    2    50    63 ...     5  1389   401]\n",
      " [  105    36    24 ...    15   759     4]\n",
      " [ 1690  1147    38 ...    13    94     8]], shape=(121809, 25), dtype=int64)\n"
     ]
    }
   ],
   "source": [
    "print(X_test)"
   ]
  },
  {
   "cell_type": "code",
   "execution_count": 51,
   "metadata": {},
   "outputs": [],
   "source": [
    "np.save('/Users/wangfan/Documents/wukm/Uncertainty Projects/AI_Human/X_test_AH.npy', X_test)\n",
    "np.save('/Users/wangfan/Documents/wukm/Uncertainty Projects/AI_Human/y_test_AH.npy', y_test)"
   ]
  },
  {
   "cell_type": "code",
   "execution_count": 46,
   "metadata": {},
   "outputs": [
    {
     "data": {
      "text/html": [
       "<pre style=\"white-space:pre;overflow-x:auto;line-height:normal;font-family:Menlo,'DejaVu Sans Mono',consolas,'Courier New',monospace\"><span style=\"font-weight: bold\">Model: \"sequential\"</span>\n",
       "</pre>\n"
      ],
      "text/plain": [
       "\u001b[1mModel: \"sequential\"\u001b[0m\n"
      ]
     },
     "metadata": {},
     "output_type": "display_data"
    },
    {
     "data": {
      "text/html": [
       "<pre style=\"white-space:pre;overflow-x:auto;line-height:normal;font-family:Menlo,'DejaVu Sans Mono',consolas,'Courier New',monospace\">┏━━━━━━━━━━━━━━━━━━━━━━━━━━━━━━━━━┳━━━━━━━━━━━━━━━━━━━━━━━━┳━━━━━━━━━━━━━━━┓\n",
       "┃<span style=\"font-weight: bold\"> Layer (type)                    </span>┃<span style=\"font-weight: bold\"> Output Shape           </span>┃<span style=\"font-weight: bold\">       Param # </span>┃\n",
       "┡━━━━━━━━━━━━━━━━━━━━━━━━━━━━━━━━━╇━━━━━━━━━━━━━━━━━━━━━━━━╇━━━━━━━━━━━━━━━┩\n",
       "│ embedding (<span style=\"color: #0087ff; text-decoration-color: #0087ff\">Embedding</span>)           │ ?                      │   <span style=\"color: #00af00; text-decoration-color: #00af00\">0</span> (unbuilt) │\n",
       "├─────────────────────────────────┼────────────────────────┼───────────────┤\n",
       "│ lstm (<span style=\"color: #0087ff; text-decoration-color: #0087ff\">LSTM</span>)                     │ ?                      │   <span style=\"color: #00af00; text-decoration-color: #00af00\">0</span> (unbuilt) │\n",
       "├─────────────────────────────────┼────────────────────────┼───────────────┤\n",
       "│ dropout (<span style=\"color: #0087ff; text-decoration-color: #0087ff\">Dropout</span>)               │ ?                      │   <span style=\"color: #00af00; text-decoration-color: #00af00\">0</span> (unbuilt) │\n",
       "├─────────────────────────────────┼────────────────────────┼───────────────┤\n",
       "│ batch_normalization             │ ?                      │   <span style=\"color: #00af00; text-decoration-color: #00af00\">0</span> (unbuilt) │\n",
       "│ (<span style=\"color: #0087ff; text-decoration-color: #0087ff\">BatchNormalization</span>)            │                        │               │\n",
       "├─────────────────────────────────┼────────────────────────┼───────────────┤\n",
       "│ dense (<span style=\"color: #0087ff; text-decoration-color: #0087ff\">Dense</span>)                   │ ?                      │   <span style=\"color: #00af00; text-decoration-color: #00af00\">0</span> (unbuilt) │\n",
       "├─────────────────────────────────┼────────────────────────┼───────────────┤\n",
       "│ dropout_1 (<span style=\"color: #0087ff; text-decoration-color: #0087ff\">Dropout</span>)             │ ?                      │   <span style=\"color: #00af00; text-decoration-color: #00af00\">0</span> (unbuilt) │\n",
       "├─────────────────────────────────┼────────────────────────┼───────────────┤\n",
       "│ batch_normalization_1           │ ?                      │   <span style=\"color: #00af00; text-decoration-color: #00af00\">0</span> (unbuilt) │\n",
       "│ (<span style=\"color: #0087ff; text-decoration-color: #0087ff\">BatchNormalization</span>)            │                        │               │\n",
       "├─────────────────────────────────┼────────────────────────┼───────────────┤\n",
       "│ dense_1 (<span style=\"color: #0087ff; text-decoration-color: #0087ff\">Dense</span>)                 │ ?                      │   <span style=\"color: #00af00; text-decoration-color: #00af00\">0</span> (unbuilt) │\n",
       "├─────────────────────────────────┼────────────────────────┼───────────────┤\n",
       "│ dropout_2 (<span style=\"color: #0087ff; text-decoration-color: #0087ff\">Dropout</span>)             │ ?                      │   <span style=\"color: #00af00; text-decoration-color: #00af00\">0</span> (unbuilt) │\n",
       "├─────────────────────────────────┼────────────────────────┼───────────────┤\n",
       "│ batch_normalization_2           │ ?                      │   <span style=\"color: #00af00; text-decoration-color: #00af00\">0</span> (unbuilt) │\n",
       "│ (<span style=\"color: #0087ff; text-decoration-color: #0087ff\">BatchNormalization</span>)            │                        │               │\n",
       "├─────────────────────────────────┼────────────────────────┼───────────────┤\n",
       "│ dense_2 (<span style=\"color: #0087ff; text-decoration-color: #0087ff\">Dense</span>)                 │ ?                      │   <span style=\"color: #00af00; text-decoration-color: #00af00\">0</span> (unbuilt) │\n",
       "└─────────────────────────────────┴────────────────────────┴───────────────┘\n",
       "</pre>\n"
      ],
      "text/plain": [
       "┏━━━━━━━━━━━━━━━━━━━━━━━━━━━━━━━━━┳━━━━━━━━━━━━━━━━━━━━━━━━┳━━━━━━━━━━━━━━━┓\n",
       "┃\u001b[1m \u001b[0m\u001b[1mLayer (type)                   \u001b[0m\u001b[1m \u001b[0m┃\u001b[1m \u001b[0m\u001b[1mOutput Shape          \u001b[0m\u001b[1m \u001b[0m┃\u001b[1m \u001b[0m\u001b[1m      Param #\u001b[0m\u001b[1m \u001b[0m┃\n",
       "┡━━━━━━━━━━━━━━━━━━━━━━━━━━━━━━━━━╇━━━━━━━━━━━━━━━━━━━━━━━━╇━━━━━━━━━━━━━━━┩\n",
       "│ embedding (\u001b[38;5;33mEmbedding\u001b[0m)           │ ?                      │   \u001b[38;5;34m0\u001b[0m (unbuilt) │\n",
       "├─────────────────────────────────┼────────────────────────┼───────────────┤\n",
       "│ lstm (\u001b[38;5;33mLSTM\u001b[0m)                     │ ?                      │   \u001b[38;5;34m0\u001b[0m (unbuilt) │\n",
       "├─────────────────────────────────┼────────────────────────┼───────────────┤\n",
       "│ dropout (\u001b[38;5;33mDropout\u001b[0m)               │ ?                      │   \u001b[38;5;34m0\u001b[0m (unbuilt) │\n",
       "├─────────────────────────────────┼────────────────────────┼───────────────┤\n",
       "│ batch_normalization             │ ?                      │   \u001b[38;5;34m0\u001b[0m (unbuilt) │\n",
       "│ (\u001b[38;5;33mBatchNormalization\u001b[0m)            │                        │               │\n",
       "├─────────────────────────────────┼────────────────────────┼───────────────┤\n",
       "│ dense (\u001b[38;5;33mDense\u001b[0m)                   │ ?                      │   \u001b[38;5;34m0\u001b[0m (unbuilt) │\n",
       "├─────────────────────────────────┼────────────────────────┼───────────────┤\n",
       "│ dropout_1 (\u001b[38;5;33mDropout\u001b[0m)             │ ?                      │   \u001b[38;5;34m0\u001b[0m (unbuilt) │\n",
       "├─────────────────────────────────┼────────────────────────┼───────────────┤\n",
       "│ batch_normalization_1           │ ?                      │   \u001b[38;5;34m0\u001b[0m (unbuilt) │\n",
       "│ (\u001b[38;5;33mBatchNormalization\u001b[0m)            │                        │               │\n",
       "├─────────────────────────────────┼────────────────────────┼───────────────┤\n",
       "│ dense_1 (\u001b[38;5;33mDense\u001b[0m)                 │ ?                      │   \u001b[38;5;34m0\u001b[0m (unbuilt) │\n",
       "├─────────────────────────────────┼────────────────────────┼───────────────┤\n",
       "│ dropout_2 (\u001b[38;5;33mDropout\u001b[0m)             │ ?                      │   \u001b[38;5;34m0\u001b[0m (unbuilt) │\n",
       "├─────────────────────────────────┼────────────────────────┼───────────────┤\n",
       "│ batch_normalization_2           │ ?                      │   \u001b[38;5;34m0\u001b[0m (unbuilt) │\n",
       "│ (\u001b[38;5;33mBatchNormalization\u001b[0m)            │                        │               │\n",
       "├─────────────────────────────────┼────────────────────────┼───────────────┤\n",
       "│ dense_2 (\u001b[38;5;33mDense\u001b[0m)                 │ ?                      │   \u001b[38;5;34m0\u001b[0m (unbuilt) │\n",
       "└─────────────────────────────────┴────────────────────────┴───────────────┘\n"
      ]
     },
     "metadata": {},
     "output_type": "display_data"
    },
    {
     "data": {
      "text/html": [
       "<pre style=\"white-space:pre;overflow-x:auto;line-height:normal;font-family:Menlo,'DejaVu Sans Mono',consolas,'Courier New',monospace\"><span style=\"font-weight: bold\"> Total params: </span><span style=\"color: #00af00; text-decoration-color: #00af00\">0</span> (0.00 B)\n",
       "</pre>\n"
      ],
      "text/plain": [
       "\u001b[1m Total params: \u001b[0m\u001b[38;5;34m0\u001b[0m (0.00 B)\n"
      ]
     },
     "metadata": {},
     "output_type": "display_data"
    },
    {
     "data": {
      "text/html": [
       "<pre style=\"white-space:pre;overflow-x:auto;line-height:normal;font-family:Menlo,'DejaVu Sans Mono',consolas,'Courier New',monospace\"><span style=\"font-weight: bold\"> Trainable params: </span><span style=\"color: #00af00; text-decoration-color: #00af00\">0</span> (0.00 B)\n",
       "</pre>\n"
      ],
      "text/plain": [
       "\u001b[1m Trainable params: \u001b[0m\u001b[38;5;34m0\u001b[0m (0.00 B)\n"
      ]
     },
     "metadata": {},
     "output_type": "display_data"
    },
    {
     "data": {
      "text/html": [
       "<pre style=\"white-space:pre;overflow-x:auto;line-height:normal;font-family:Menlo,'DejaVu Sans Mono',consolas,'Courier New',monospace\"><span style=\"font-weight: bold\"> Non-trainable params: </span><span style=\"color: #00af00; text-decoration-color: #00af00\">0</span> (0.00 B)\n",
       "</pre>\n"
      ],
      "text/plain": [
       "\u001b[1m Non-trainable params: \u001b[0m\u001b[38;5;34m0\u001b[0m (0.00 B)\n"
      ]
     },
     "metadata": {},
     "output_type": "display_data"
    },
    {
     "name": "stdout",
     "output_type": "stream",
     "text": [
      "\n"
     ]
    }
   ],
   "source": [
    "import keras\n",
    "from keras.models import Sequential  \n",
    "from keras.layers import Dense,Dropout,Flatten,LSTM,BatchNormalization\n",
    "\n",
    "model = Sequential()\n",
    "\n",
    "model.add(Embedding(max_vocab_length,128))\n",
    "\n",
    "model.add(LSTM(units=64,dropout=0.2,recurrent_dropout=0.2,kernel_regularizer=keras.regularizers.l1(0.001)))\n",
    "model.add(Dropout(0.5))\n",
    "model.add(BatchNormalization())\n",
    "model.add(Dense(64,activation='relu'))\n",
    "model.add(Dropout(0.5))\n",
    "model.add(BatchNormalization())\n",
    "model.add(Dense(32, activation='relu'))\n",
    "model.add(Dropout(0.5))\n",
    "model.add(BatchNormalization())\n",
    "model.add(Dense(2,activation='softmax'))\n",
    "\n",
    "model.summary()  \n",
    "print(\"\")  "
   ]
  },
  {
   "cell_type": "code",
   "execution_count": 47,
   "metadata": {},
   "outputs": [
    {
     "name": "stdout",
     "output_type": "stream",
     "text": [
      "Epoch 1/3\n",
      "\u001b[1m2284/2284\u001b[0m \u001b[32m━━━━━━━━━━━━━━━━━━━━\u001b[0m\u001b[37m\u001b[0m \u001b[1m80s\u001b[0m 34ms/step - accuracy: 0.8516 - loss: 0.6773 - val_accuracy: 0.9506 - val_loss: 0.1571\n",
      "Epoch 2/3\n",
      "\u001b[1m2284/2284\u001b[0m \u001b[32m━━━━━━━━━━━━━━━━━━━━\u001b[0m\u001b[37m\u001b[0m \u001b[1m72s\u001b[0m 32ms/step - accuracy: 0.9574 - loss: 0.1497 - val_accuracy: 0.9648 - val_loss: 0.1209\n",
      "Epoch 3/3\n",
      "\u001b[1m2284/2284\u001b[0m \u001b[32m━━━━━━━━━━━━━━━━━━━━\u001b[0m\u001b[37m\u001b[0m \u001b[1m73s\u001b[0m 32ms/step - accuracy: 0.9670 - loss: 0.1187 - val_accuracy: 0.9641 - val_loss: 0.1225\n"
     ]
    }
   ],
   "source": [
    "from keras.optimizers import SGD\n",
    "\n",
    "callback = keras.callbacks.EarlyStopping(monitor = 'loss', patience = 3)\n",
    "\n",
    "# 定義訓練方式  \n",
    "sgd = SGD(learning_rate = 0.001, momentum = 0.95)\n",
    "\n",
    "model.compile(loss='categorical_crossentropy', optimizer='adam', metrics=['accuracy'])  \n",
    "  \n",
    "# Train the model\n",
    "train_history = model.fit(x=X_train, y=y_train, validation_split=0.2,callbacks=[callback], epochs=3, batch_size=128, verbose=1)"
   ]
  },
  {
   "cell_type": "code",
   "execution_count": 48,
   "metadata": {},
   "outputs": [
    {
     "name": "stdout",
     "output_type": "stream",
     "text": [
      "Test loss: 0.12147257477045059\n",
      "Test accuracy: 0.9643458127975464\n"
     ]
    }
   ],
   "source": [
    "score = model.evaluate(X_test, y_test, verbose=0)\n",
    "print(\"Test loss:\", score[0])\n",
    "print(\"Test accuracy:\", score[1])"
   ]
  },
  {
   "cell_type": "code",
   "execution_count": 49,
   "metadata": {},
   "outputs": [
    {
     "name": "stdout",
     "output_type": "stream",
     "text": [
      "\u001b[1m3807/3807\u001b[0m \u001b[32m━━━━━━━━━━━━━━━━━━━━\u001b[0m\u001b[37m\u001b[0m \u001b[1m10s\u001b[0m 3ms/step\n",
      "Confusion Matrix:\n",
      "[[74617  1724]\n",
      " [ 2619 42849]]\n"
     ]
    }
   ],
   "source": [
    "from sklearn.metrics import accuracy_score, confusion_matrix, classification_report\n",
    "# Make predictions on the test set\n",
    "y_pred = model.predict(X_test)\n",
    "\n",
    "# Convert predictions and true labels from one-hot encoding to class indices\n",
    "y_pred_classes = np.argmax(y_pred, axis=1)\n",
    "y_test_classes = np.argmax(y_test, axis=1)\n",
    "\n",
    "# Compute the confusion matrix\n",
    "conf_matrix = confusion_matrix(y_test_classes, y_pred_classes)\n",
    "\n",
    "# Print the confusion matrix\n",
    "print(\"Confusion Matrix:\")\n",
    "print(conf_matrix)"
   ]
  },
  {
   "cell_type": "code",
   "execution_count": 50,
   "metadata": {},
   "outputs": [],
   "source": [
    "model.save('/Users/wangfan/Documents/wukm/Uncertainty Projects/AI_Human/AH.keras')"
   ]
  },
  {
   "cell_type": "code",
   "execution_count": null,
   "metadata": {},
   "outputs": [],
   "source": []
  }
 ],
 "metadata": {
  "kernelspec": {
   "display_name": "Python 3",
   "language": "python",
   "name": "python3"
  },
  "language_info": {
   "codemirror_mode": {
    "name": "ipython",
    "version": 3
   },
   "file_extension": ".py",
   "mimetype": "text/x-python",
   "name": "python",
   "nbconvert_exporter": "python",
   "pygments_lexer": "ipython3",
   "version": "3.9.6"
  }
 },
 "nbformat": 4,
 "nbformat_minor": 2
}
